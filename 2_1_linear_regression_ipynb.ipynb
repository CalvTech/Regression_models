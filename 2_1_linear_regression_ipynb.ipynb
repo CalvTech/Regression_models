{
  "nbformat": 4,
  "nbformat_minor": 0,
  "metadata": {
    "colab": {
      "provenance": []
    },
    "kernelspec": {
      "name": "python3",
      "display_name": "Python 3"
    },
    "language_info": {
      "name": "python"
    }
  },
  "cells": [
    {
      "cell_type": "markdown",
      "source": [
        "# Linear Regression Model Example\n",
        "### This repository showcases a Python implementation of a linear regression model using a real estate dataset from AutoML, featuring 79 explanatory variables that capture various aspects of residential homes in Ames, Iowa.\n",
        "\n",
        "## Summary:\n",
        "\n",
        "\n",
        "*   We make use of openML to import the data\n",
        "*   We choose which features of the homes are important\n",
        "* We did not check for multicollinearity, when 2 features are highly correlated with each other -> weakness of the linear regression\n",
        "* For the categorical features, we make use of OneHotEncoder to convert the categorical values of each columns to dummy variables -> do remember this method can become very expensive if your data contains a lot of unique categorical values\n",
        "\n",
        "\n",
        "\n"
      ],
      "metadata": {
        "id": "wTa4apE-Dwwd"
      }
    },
    {
      "cell_type": "code",
      "source": [
        "pip install openml"
      ],
      "metadata": {
        "colab": {
          "base_uri": "https://localhost:8080/"
        },
        "id": "gPLSvRzPK5JH",
        "outputId": "a69c7c98-a388-42fe-ad98-62b1a126fe44"
      },
      "execution_count": 7,
      "outputs": [
        {
          "output_type": "stream",
          "name": "stdout",
          "text": [
            "Requirement already satisfied: openml in /usr/local/lib/python3.10/dist-packages (0.15.0)\n",
            "Requirement already satisfied: liac-arff>=2.4.0 in /usr/local/lib/python3.10/dist-packages (from openml) (2.5.0)\n",
            "Requirement already satisfied: xmltodict in /usr/local/lib/python3.10/dist-packages (from openml) (0.14.2)\n",
            "Requirement already satisfied: requests in /usr/local/lib/python3.10/dist-packages (from openml) (2.32.3)\n",
            "Requirement already satisfied: scikit-learn>=0.18 in /usr/local/lib/python3.10/dist-packages (from openml) (1.5.2)\n",
            "Requirement already satisfied: python-dateutil in /usr/local/lib/python3.10/dist-packages (from openml) (2.8.2)\n",
            "Requirement already satisfied: pandas>=1.0.0 in /usr/local/lib/python3.10/dist-packages (from openml) (2.2.2)\n",
            "Requirement already satisfied: scipy>=0.13.3 in /usr/local/lib/python3.10/dist-packages (from openml) (1.13.1)\n",
            "Requirement already satisfied: numpy>=1.6.2 in /usr/local/lib/python3.10/dist-packages (from openml) (1.26.4)\n",
            "Requirement already satisfied: minio in /usr/local/lib/python3.10/dist-packages (from openml) (7.2.10)\n",
            "Requirement already satisfied: pyarrow in /usr/local/lib/python3.10/dist-packages (from openml) (16.1.0)\n",
            "Requirement already satisfied: tqdm in /usr/local/lib/python3.10/dist-packages (from openml) (4.66.5)\n",
            "Requirement already satisfied: packaging in /usr/local/lib/python3.10/dist-packages (from openml) (24.1)\n",
            "Requirement already satisfied: pytz>=2020.1 in /usr/local/lib/python3.10/dist-packages (from pandas>=1.0.0->openml) (2024.2)\n",
            "Requirement already satisfied: tzdata>=2022.7 in /usr/local/lib/python3.10/dist-packages (from pandas>=1.0.0->openml) (2024.2)\n",
            "Requirement already satisfied: six>=1.5 in /usr/local/lib/python3.10/dist-packages (from python-dateutil->openml) (1.16.0)\n",
            "Requirement already satisfied: joblib>=1.2.0 in /usr/local/lib/python3.10/dist-packages (from scikit-learn>=0.18->openml) (1.4.2)\n",
            "Requirement already satisfied: threadpoolctl>=3.1.0 in /usr/local/lib/python3.10/dist-packages (from scikit-learn>=0.18->openml) (3.5.0)\n",
            "Requirement already satisfied: certifi in /usr/local/lib/python3.10/dist-packages (from minio->openml) (2024.8.30)\n",
            "Requirement already satisfied: urllib3 in /usr/local/lib/python3.10/dist-packages (from minio->openml) (2.2.3)\n",
            "Requirement already satisfied: argon2-cffi in /usr/local/lib/python3.10/dist-packages (from minio->openml) (23.1.0)\n",
            "Requirement already satisfied: pycryptodome in /usr/local/lib/python3.10/dist-packages (from minio->openml) (3.21.0)\n",
            "Requirement already satisfied: typing-extensions in /usr/local/lib/python3.10/dist-packages (from minio->openml) (4.12.2)\n",
            "Requirement already satisfied: charset-normalizer<4,>=2 in /usr/local/lib/python3.10/dist-packages (from requests->openml) (3.4.0)\n",
            "Requirement already satisfied: idna<4,>=2.5 in /usr/local/lib/python3.10/dist-packages (from requests->openml) (3.10)\n",
            "Requirement already satisfied: argon2-cffi-bindings in /usr/local/lib/python3.10/dist-packages (from argon2-cffi->minio->openml) (21.2.0)\n",
            "Requirement already satisfied: cffi>=1.0.1 in /usr/local/lib/python3.10/dist-packages (from argon2-cffi-bindings->argon2-cffi->minio->openml) (1.17.1)\n",
            "Requirement already satisfied: pycparser in /usr/local/lib/python3.10/dist-packages (from cffi>=1.0.1->argon2-cffi-bindings->argon2-cffi->minio->openml) (2.22)\n"
          ]
        }
      ]
    },
    {
      "cell_type": "code",
      "source": [
        "import openml\n",
        "import pandas as pd\n",
        "\n",
        "# Load the dataset by OpenML ID (Ames dataset is ID 42165)\n",
        "ames = openml.datasets.get_dataset(42165)\n",
        "df_ames, *_ = ames.get_data()\n",
        "print(df_ames.head())\n"
      ],
      "metadata": {
        "colab": {
          "base_uri": "https://localhost:8080/"
        },
        "id": "TlUgMUFbK3p_",
        "outputId": "9a8eaea6-b270-4f80-a535-2ed71dbede7c"
      },
      "execution_count": 8,
      "outputs": [
        {
          "output_type": "stream",
          "name": "stdout",
          "text": [
            "   Id  MSSubClass MSZoning  LotFrontage  LotArea Street Alley LotShape  \\\n",
            "0   1          60       RL         65.0     8450   Pave  None      Reg   \n",
            "1   2          20       RL         80.0     9600   Pave  None      Reg   \n",
            "2   3          60       RL         68.0    11250   Pave  None      IR1   \n",
            "3   4          70       RL         60.0     9550   Pave  None      IR1   \n",
            "4   5          60       RL         84.0    14260   Pave  None      IR1   \n",
            "\n",
            "  LandContour Utilities  ... PoolArea PoolQC Fence MiscFeature MiscVal MoSold  \\\n",
            "0         Lvl    AllPub  ...        0   None  None        None       0      2   \n",
            "1         Lvl    AllPub  ...        0   None  None        None       0      5   \n",
            "2         Lvl    AllPub  ...        0   None  None        None       0      9   \n",
            "3         Lvl    AllPub  ...        0   None  None        None       0      2   \n",
            "4         Lvl    AllPub  ...        0   None  None        None       0     12   \n",
            "\n",
            "  YrSold  SaleType  SaleCondition  SalePrice  \n",
            "0   2008        WD         Normal     208500  \n",
            "1   2007        WD         Normal     181500  \n",
            "2   2008        WD         Normal     223500  \n",
            "3   2006        WD        Abnorml     140000  \n",
            "4   2008        WD         Normal     250000  \n",
            "\n",
            "[5 rows x 81 columns]\n"
          ]
        }
      ]
    },
    {
      "cell_type": "code",
      "source": [
        "df_ames.columns"
      ],
      "metadata": {
        "colab": {
          "base_uri": "https://localhost:8080/"
        },
        "id": "xnl9BsniLggt",
        "outputId": "efa9ef7e-d5ac-4561-d754-1773a55533ad"
      },
      "execution_count": 9,
      "outputs": [
        {
          "output_type": "execute_result",
          "data": {
            "text/plain": [
              "Index(['Id', 'MSSubClass', 'MSZoning', 'LotFrontage', 'LotArea', 'Street',\n",
              "       'Alley', 'LotShape', 'LandContour', 'Utilities', 'LotConfig',\n",
              "       'LandSlope', 'Neighborhood', 'Condition1', 'Condition2', 'BldgType',\n",
              "       'HouseStyle', 'OverallQual', 'OverallCond', 'YearBuilt', 'YearRemodAdd',\n",
              "       'RoofStyle', 'RoofMatl', 'Exterior1st', 'Exterior2nd', 'MasVnrType',\n",
              "       'MasVnrArea', 'ExterQual', 'ExterCond', 'Foundation', 'BsmtQual',\n",
              "       'BsmtCond', 'BsmtExposure', 'BsmtFinType1', 'BsmtFinSF1',\n",
              "       'BsmtFinType2', 'BsmtFinSF2', 'BsmtUnfSF', 'TotalBsmtSF', 'Heating',\n",
              "       'HeatingQC', 'CentralAir', 'Electrical', '1stFlrSF', '2ndFlrSF',\n",
              "       'LowQualFinSF', 'GrLivArea', 'BsmtFullBath', 'BsmtHalfBath', 'FullBath',\n",
              "       'HalfBath', 'BedroomAbvGr', 'KitchenAbvGr', 'KitchenQual',\n",
              "       'TotRmsAbvGrd', 'Functional', 'Fireplaces', 'FireplaceQu', 'GarageType',\n",
              "       'GarageYrBlt', 'GarageFinish', 'GarageCars', 'GarageArea', 'GarageQual',\n",
              "       'GarageCond', 'PavedDrive', 'WoodDeckSF', 'OpenPorchSF',\n",
              "       'EnclosedPorch', '3SsnPorch', 'ScreenPorch', 'PoolArea', 'PoolQC',\n",
              "       'Fence', 'MiscFeature', 'MiscVal', 'MoSold', 'YrSold', 'SaleType',\n",
              "       'SaleCondition', 'SalePrice'],\n",
              "      dtype='object')"
            ]
          },
          "metadata": {},
          "execution_count": 9
        }
      ]
    },
    {
      "cell_type": "code",
      "source": [
        "import statsmodels.api as sm\n",
        "import pandas as pd\n",
        "from sklearn.datasets import fetch_openml\n",
        "from sklearn.preprocessing import OneHotEncoder\n",
        "from sklearn.compose import ColumnTransformer\n",
        "from sklearn.pipeline import Pipeline\n",
        "from sklearn.impute import SimpleImputer\n",
        "\n",
        "# Load the Ames Housing dataset\n",
        "ames = fetch_openml(name=\"house_prices\", as_frame=True)\n",
        "df_ames = ames.data\n",
        "df_ames['SalePrice'] = ames.target  # Adding target to the DataFrame\n",
        "\n",
        "# Selecting features and target\n",
        "features = [\n",
        "    'GrLivArea', 'LotArea', '1stFlrSF', '2ndFlrSF', 'TotalBsmtSF', 'GarageArea',\n",
        "    'YearBuilt', 'YearRemodAdd', 'OverallQual', 'OverallCond', 'ExterQual',\n",
        "    'KitchenQual', 'TotRmsAbvGrd', 'BedroomAbvGr', 'FullBath', 'HalfBath',\n",
        "    'Fireplaces', 'GarageCars', 'GarageYrBlt', 'OpenPorchSF'\n",
        "]\n",
        "X = df_ames[features]\n",
        "y = df_ames['SalePrice']\n",
        "\n",
        "# Define categorical features\n",
        "categorical_features = ['ExterQual', 'KitchenQual']\n",
        "numeric_features = [col for col in features if col not in categorical_features]\n",
        "\n",
        "# Preprocess numeric and categorical features\n",
        "numeric_transformer = SimpleImputer(strategy='median')\n",
        "categorical_transformer = Pipeline(steps=[\n",
        "    ('imputer', SimpleImputer(strategy='most_frequent')),\n",
        "    ('encoder', OneHotEncoder(drop='first'))  # Drop first to avoid multicollinearity\n",
        "])\n",
        "\n",
        "# Combine preprocessing\n",
        "preprocessor = ColumnTransformer(\n",
        "    transformers=[\n",
        "        ('num', numeric_transformer, numeric_features),\n",
        "        ('cat', categorical_transformer, categorical_features)\n",
        "    ])\n",
        "\n",
        "# Preprocess and prepare the data\n",
        "X_processed = preprocessor.fit_transform(X)\n",
        "\n",
        "# Retrieve feature names for numeric and one-hot encoded columns\n",
        "ohe_columns = preprocessor.named_transformers_['cat']['encoder'].get_feature_names_out(categorical_features)\n",
        "all_feature_names = ['const'] + list(numeric_features) + list(ohe_columns)\n",
        "\n",
        "# Convert X_processed to DataFrame with feature names\n",
        "X_processed_df = pd.DataFrame(X_processed, columns=all_feature_names[1:])  # Exclude 'const' initially\n",
        "\n",
        "# Add a constant for the intercept term in the Statsmodels linear model\n",
        "X_processed_df = sm.add_constant(X_processed_df, has_constant='add')  # This adds the 'const' column\n",
        "\n",
        "# Fit the Statsmodels OLS regression model on the entire dataset\n",
        "model = sm.OLS(y, X_processed_df).fit()\n",
        "\n",
        "# Print the summary of the model with feature names\n",
        "print(model.summary())\n"
      ],
      "metadata": {
        "colab": {
          "base_uri": "https://localhost:8080/"
        },
        "id": "D4oIeye6OEqu",
        "outputId": "589e20fa-2cc2-4cac-a42a-83d74ed3eb6a"
      },
      "execution_count": 11,
      "outputs": [
        {
          "output_type": "stream",
          "name": "stdout",
          "text": [
            "                            OLS Regression Results                            \n",
            "==============================================================================\n",
            "Dep. Variable:              SalePrice   R-squared:                       0.815\n",
            "Model:                            OLS   Adj. R-squared:                  0.812\n",
            "Method:                 Least Squares   F-statistic:                     263.1\n",
            "Date:                Sun, 27 Oct 2024   Prob (F-statistic):               0.00\n",
            "Time:                        12:56:48   Log-Likelihood:                -17313.\n",
            "No. Observations:                1460   AIC:                         3.468e+04\n",
            "Df Residuals:                    1435   BIC:                         3.481e+04\n",
            "Df Model:                          24                                         \n",
            "Covariance Type:            nonrobust                                         \n",
            "==================================================================================\n",
            "                     coef    std err          t      P>|t|      [0.025      0.975]\n",
            "----------------------------------------------------------------------------------\n",
            "const          -9.279e+05   1.49e+05     -6.217      0.000   -1.22e+06   -6.35e+05\n",
            "GrLivArea         17.7477     19.713      0.900      0.368     -20.921      56.416\n",
            "LotArea            0.6053      0.098      6.165      0.000       0.413       0.798\n",
            "1stFlrSF          34.1517     20.144      1.695      0.090      -5.364      73.668\n",
            "2ndFlrSF          30.6979     19.919      1.541      0.123      -8.375      69.770\n",
            "TotalBsmtSF       16.5306      3.967      4.168      0.000       8.750      24.311\n",
            "GarageArea         5.2378      9.725      0.539      0.590     -13.840      24.315\n",
            "YearBuilt        401.4723     63.124      6.360      0.000     277.648     525.297\n",
            "YearRemodAdd      35.2732     71.005      0.497      0.619    -104.011     174.558\n",
            "OverallQual     1.273e+04   1222.849     10.409      0.000    1.03e+04    1.51e+04\n",
            "OverallCond     6410.7854   1011.120      6.340      0.000    4427.353    8394.218\n",
            "TotRmsAbvGrd    1387.0265   1187.559      1.168      0.243    -942.511    3716.564\n",
            "BedroomAbvGr   -4487.0123   1686.896     -2.660      0.008   -7796.059   -1177.966\n",
            "FullBath       -1516.3953   2722.402     -0.557      0.578   -6856.710    3823.919\n",
            "HalfBath        -689.2417   2630.612     -0.262      0.793   -5849.499    4471.016\n",
            "Fireplaces      7529.1326   1719.143      4.380      0.000    4156.830    1.09e+04\n",
            "GarageCars      1.113e+04   2836.259      3.925      0.000    5569.422    1.67e+04\n",
            "GarageYrBlt       43.9753     68.388      0.643      0.520     -90.175     178.126\n",
            "OpenPorchSF      -11.6815     14.894     -0.784      0.433     -40.899      17.535\n",
            "ExterQual_Fa   -3.618e+04   1.24e+04     -2.920      0.004   -6.05e+04   -1.19e+04\n",
            "ExterQual_Gd   -3.231e+04   6151.722     -5.252      0.000   -4.44e+04   -2.02e+04\n",
            "ExterQual_TA   -4.097e+04   6876.767     -5.958      0.000   -5.45e+04   -2.75e+04\n",
            "KitchenQual_Fa -3.395e+04   8118.941     -4.181      0.000   -4.99e+04    -1.8e+04\n",
            "KitchenQual_Gd -3.755e+04   4616.392     -8.135      0.000   -4.66e+04   -2.85e+04\n",
            "KitchenQual_TA -4.235e+04   5235.499     -8.088      0.000   -5.26e+04   -3.21e+04\n",
            "==============================================================================\n",
            "Omnibus:                      877.648   Durbin-Watson:                   1.993\n",
            "Prob(Omnibus):                  0.000   Jarque-Bera (JB):           159634.186\n",
            "Skew:                          -1.723   Prob(JB):                         0.00\n",
            "Kurtosis:                      54.110   Cond. No.                     2.45e+06\n",
            "==============================================================================\n",
            "\n",
            "Notes:\n",
            "[1] Standard Errors assume that the covariance matrix of the errors is correctly specified.\n",
            "[2] The condition number is large, 2.45e+06. This might indicate that there are\n",
            "strong multicollinearity or other numerical problems.\n"
          ]
        }
      ]
    },
    {
      "cell_type": "markdown",
      "source": [
        "# Final thoughts:\n",
        "\n",
        "\n",
        "*   With regression models we can observe which features of the home play an important role in determining the price\n",
        "*   The p-value of each feature (<0.05) are the only ones which can be used\n",
        "* An R-squared of 80% means that 80% of the variation in the outcome (like house prices) is explained by the predictors in the model. In other words, the model does a good job of capturing the main patterns in the data, though 20% of the variation is still unexplained or due to factors outside the model.\n",
        "\n"
      ],
      "metadata": {
        "id": "VTJK5jLzEj-9"
      }
    }
  ]
}